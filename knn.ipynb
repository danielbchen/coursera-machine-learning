{
 "cells": [
  {
   "cell_type": "markdown",
   "metadata": {},
   "source": [
    "# K-Nearest Neighbours"
   ]
  },
  {
   "cell_type": "markdown",
   "metadata": {},
   "source": [
    "K-Nearest Neighbours is a supervised machine learning method used for classification problems. \n",
    "\n",
    "In the most basic case where we have two features to predict a single categorical outcome, we can plot the two features on a set of x and y-axes. We can add a color layer for each plotted point which indicates the categorical class outcome that the point belongs to. From there, we can plot the points for which we have unknown categorical outcomes. Then we look at the K nearest neighbors to that unknown point, and the most popular neighbor is the class that we will assign the unknown point. "
   ]
  },
  {
   "cell_type": "code",
   "execution_count": 1,
   "metadata": {},
   "outputs": [],
   "source": [
    "import pandas as pd\n",
    "import numpy as np \n",
    "import matplotlib.pyplot as plt\n",
    "import seaborn as sns\n",
    "\n",
    "from statistics import stdev\n",
    "\n",
    "from sklearn.model_selection import train_test_split\n",
    "from sklearn import preprocessing\n",
    "from sklearn.neighbors import KNeighborsClassifier\n",
    "from sklearn import metrics\n",
    "from sklearn.metrics import f1_score\n",
    "from sklearn.metrics import precision_score\n",
    "from sklearn.metrics import recall_score\n",
    "from sklearn.metrics import confusion_matrix, ConfusionMatrixDisplay"
   ]
  },
  {
   "cell_type": "markdown",
   "metadata": {},
   "source": [
    "### 1. Load in and explore data"
   ]
  },
  {
   "cell_type": "code",
   "execution_count": 2,
   "metadata": {},
   "outputs": [],
   "source": [
    "data_path = 'https://raw.githubusercontent.com/YaminiMuralidharen/MachineLearningexercises/master/teleCust1000t.csv'\n",
    "data = pd.read_csv(data_path)"
   ]
  },
  {
   "cell_type": "code",
   "execution_count": 3,
   "metadata": {},
   "outputs": [
    {
     "data": {
      "text/plain": [
       "1    266\n",
       "2    217\n",
       "3    281\n",
       "4    236\n",
       "Name: custcat, dtype: int64"
      ]
     },
     "execution_count": 3,
     "metadata": {},
     "output_type": "execute_result"
    }
   ],
   "source": [
    "data['custcat'].value_counts().sort_index()"
   ]
  },
  {
   "cell_type": "code",
   "execution_count": 4,
   "metadata": {},
   "outputs": [
    {
     "data": {
      "text/plain": [
       "<AxesSubplot:>"
      ]
     },
     "execution_count": 4,
     "metadata": {},
     "output_type": "execute_result"
    },
    {
     "data": {
      "image/png": "[encoded data removed]",
      "text/plain": [
       "<Figure size 432x288 with 1 Axes>"
      ]
     },
     "metadata": {
      "needs_background": "light"
     },
     "output_type": "display_data"
    }
   ],
   "source": [
    "data['income'].hist(bins=50)"
   ]
  },
  {
   "cell_type": "markdown",
   "metadata": {},
   "source": [
    "### 2. Define the Feature Set"
   ]
  },
  {
   "cell_type": "markdown",
   "metadata": {},
   "source": [
    "First we'll need to retrieve all our features columns and turn them into a numpy array"
   ]
  },
  {
   "cell_type": "code",
   "execution_count": 5,
   "metadata": {},
   "outputs": [
    {
     "data": {
      "text/plain": [
       "array([[  2.,  13.,  44.,   1.,   9.,  64.,   4.,   5.,   0.,   0.,   2.],\n",
       "       [  3.,  11.,  33.,   1.,   7., 136.,   5.,   5.,   0.,   0.,   6.],\n",
       "       [  3.,  68.,  52.,   1.,  24., 116.,   1.,  29.,   0.,   1.,   2.],\n",
       "       [  2.,  33.,  33.,   0.,  12.,  33.,   2.,   0.,   0.,   1.,   1.],\n",
       "       [  2.,  23.,  30.,   1.,   9.,  30.,   1.,   2.,   0.,   0.,   4.]])"
      ]
     },
     "execution_count": 5,
     "metadata": {},
     "output_type": "execute_result"
    }
   ],
   "source": [
    "X = data[[col for col in data.columns if col != 'custcat']].values # By accessing the values we turn our data frame object into an array object\n",
    "X[0:5] # return the first five rows of our array"
   ]
  },
  {
   "cell_type": "markdown",
   "metadata": {},
   "source": [
    "Next we define our label set."
   ]
  },
  {
   "cell_type": "code",
   "execution_count": 6,
   "metadata": {},
   "outputs": [
    {
     "name": "stdout",
     "output_type": "stream",
     "text": [
      "Subsetting a data frame with a single bracket returns a <class 'pandas.core.series.Series'> \n",
      "Subsetting a data frame with double brackets returns a <class 'pandas.core.frame.DataFrame'> \n",
      "Subsetting a data frame with the values method returns a <class 'numpy.ndarray'>\n"
     ]
    }
   ],
   "source": [
    "txt = (f'Subsetting a data frame with a single bracket returns a {type(data[\"custcat\"])} \\n'\n",
    "       f'Subsetting a data frame with double brackets returns a {type(data[[\"custcat\"]])} \\n'\n",
    "       f'Subsetting a data frame with the values method returns a {type(data[[\"custcat\"]].values)}'\n",
    "      )\n",
    "print(txt)\n"
   ]
  },
  {
   "cell_type": "code",
   "execution_count": 7,
   "metadata": {},
   "outputs": [
    {
     "data": {
      "text/plain": [
       "array([1, 4, 3, 1, 3])"
      ]
     },
     "execution_count": 7,
     "metadata": {},
     "output_type": "execute_result"
    }
   ],
   "source": [
    "y = data.custcat.values\n",
    "y[0:5]"
   ]
  },
  {
   "cell_type": "markdown",
   "metadata": {},
   "source": [
    "### 3. Normalize the Data\n",
    "\n",
    "Machine learning algorithms generally perform better or converge faster when features are on a relatively similar scale and are close to a normal distribution. `StandardScaler` is the industry's go-to. \n",
    "\n",
    "This algorithm does: \n",
    "1. Subtracts the mean from each observation\n",
    "2. Scales to unit variance - or divides by the standard deviation\n",
    "\n",
    "This algorithm results in: \n",
    "1. Standard deviation equal to 1\n",
    "2. Variance also equal to 1 because variance is the standard deviation squared\n",
    "3. Mean distribution of 0"
   ]
  },
  {
   "cell_type": "code",
   "execution_count": 8,
   "metadata": {},
   "outputs": [],
   "source": [
    "result = preprocessing.StandardScaler().fit(X).transform(X.astype(float))"
   ]
  },
  {
   "cell_type": "markdown",
   "metadata": {},
   "source": [
    "Check the resulting standardized array against the original array object named X."
   ]
  },
  {
   "cell_type": "code",
   "execution_count": 9,
   "metadata": {},
   "outputs": [
    {
     "name": "stdout",
     "output_type": "stream",
     "text": [
      "The mean of the scaled array is 0.0)\n",
      "The mean of the original array is 16.85\n",
      "\n",
      "\n",
      "The standard deviation of the scaled array is 1.0\n",
      "The standard deviation of the original array is 21.0\n"
     ]
    }
   ],
   "source": [
    "print(f'The mean of the scaled array is {np.round(np.mean(result), 2)})')\n",
    "print(f'The mean of the original array is {np.round(np.mean(X), 2)}')\n",
    "\n",
    "print('\\n')\n",
    "\n",
    "print(f'The standard deviation of the scaled array is {np.round(stdev(result.tolist()[0]), 0)}')\n",
    "print(f'The standard deviation of the original array is {np.round(stdev(X.tolist()[0]), 0)}')"
   ]
  },
  {
   "cell_type": "markdown",
   "metadata": {},
   "source": [
    "However, it is important to note that while the values of each individual observation have changed (resulting in a new distribution), the shape of the array has not."
   ]
  },
  {
   "cell_type": "code",
   "execution_count": 10,
   "metadata": {},
   "outputs": [
    {
     "name": "stdout",
     "output_type": "stream",
     "text": [
      "(1000, 11) \n",
      " (1000, 11)\n"
     ]
    }
   ],
   "source": [
    "print(result.shape, '\\n', X.shape)"
   ]
  },
  {
   "cell_type": "markdown",
   "metadata": {},
   "source": [
    "By plotting the resulting arrays we can also visualize the new distributions. The scaled values clearly have a mean that is approximately zero and the shape of the distrbution closely resembles a normal distribution. On a programming note, we'll need to access `numpy`'s `tolist()` method in order to turn an array into a list."
   ]
  },
  {
   "cell_type": "code",
   "execution_count": 11,
   "metadata": {},
   "outputs": [
    {
     "data": {
      "text/plain": [
       "<AxesSubplot:xlabel='value', ylabel='Density'>"
      ]
     },
     "execution_count": 11,
     "metadata": {},
     "output_type": "execute_result"
    },
    {
     "data": {
      "image/png": "[encoded data removed]",
      "text/plain": [
       "<Figure size 432x288 with 1 Axes>"
      ]
     },
     "metadata": {
      "needs_background": "light"
     },
     "output_type": "display_data"
    }
   ],
   "source": [
    "scaledvals_df = pd.DataFrame({'value':result.tolist()[0], 'type':'scaled'})\n",
    "originalvals_df = pd.DataFrame({'value':X.tolist()[0], 'type':'original'})\n",
    "\n",
    "plotting_df = pd.concat([scaledvals_df, originalvals_df]).reset_index(drop=True)\n",
    "\n",
    "sns.kdeplot(data=plotting_df, x='value', hue='type')"
   ]
  },
  {
   "cell_type": "markdown",
   "metadata": {},
   "source": [
    "### 4. Train Test Split\n",
    "\n",
    "Now that we understand what the data look like, we will split the data into training and testing splits. For the sake of organization, we will redefine the object X to be the scaled and transformed values after using `StandardScaler`, instead of using the object named `result`. This will make it easier to keep track of objects in the environment."
   ]
  },
  {
   "cell_type": "code",
   "execution_count": 12,
   "metadata": {},
   "outputs": [
    {
     "data": {
      "text/plain": [
       "array([[-0.02696767, -1.055125  ,  0.18450456,  1.0100505 , -0.25303431,\n",
       "        -0.12650641,  1.0877526 , -0.5941226 , -0.22207644, -1.03459817,\n",
       "        -0.23065004],\n",
       "       [ 1.19883553, -1.14880563, -0.69181243,  1.0100505 , -0.4514148 ,\n",
       "         0.54644972,  1.9062271 , -0.5941226 , -0.22207644, -1.03459817,\n",
       "         2.55666158],\n",
       "       [ 1.19883553,  1.52109247,  0.82182601,  1.0100505 ,  1.23481934,\n",
       "         0.35951747, -1.36767088,  1.78752803, -0.22207644,  0.96655883,\n",
       "        -0.23065004],\n",
       "       [-0.02696767, -0.11831864, -0.69181243, -0.9900495 ,  0.04453642,\n",
       "        -0.41625141, -0.54919639, -1.09029981, -0.22207644,  0.96655883,\n",
       "        -0.92747794],\n",
       "       [-0.02696767, -0.58672182, -0.93080797,  1.0100505 , -0.25303431,\n",
       "        -0.44429125, -1.36767088, -0.89182893, -0.22207644, -1.03459817,\n",
       "         1.16300577]])"
      ]
     },
     "execution_count": 12,
     "metadata": {},
     "output_type": "execute_result"
    }
   ],
   "source": [
    "X = preprocessing.StandardScaler().fit(X).transform(X.astype(float))\n",
    "X[0:5]"
   ]
  },
  {
   "cell_type": "code",
   "execution_count": 13,
   "metadata": {},
   "outputs": [
    {
     "name": "stdout",
     "output_type": "stream",
     "text": [
      "(800, 11) (800,) (200, 11) (200,)\n"
     ]
    }
   ],
   "source": [
    "X_train, X_test, y_train, y_test = train_test_split(X, y, test_size=.20, random_state=2)\n",
    "print(X_train.shape, y_train.shape, X_test.shape, y_test.shape)"
   ]
  },
  {
   "cell_type": "markdown",
   "metadata": {},
   "source": [
    "### 5. Training the model\n",
    "For K Nearest Neighbours we have to specify the paramter K. In this initial example, we'll use K=4. With K=4, we'll look at the four nearest neighbors to each unknown point and then classify that neighbor to be the same as the most common class of the four nearest neighbors. "
   ]
  },
  {
   "cell_type": "code",
   "execution_count": 14,
   "metadata": {},
   "outputs": [
    {
     "data": {
      "text/html": [
       "<style>#sk-container-id-1 {color: black;background-color: white;}#sk-container-id-1 pre{padding: 0;}#sk-container-id-1 div.sk-toggleable {background-color: white;}#sk-container-id-1 label.sk-toggleable__label {cursor: pointer;display: block;width: 100%;margin-bottom: 0;padding: 0.3em;box-sizing: border-box;text-align: center;}#sk-container-id-1 label.sk-toggleable__label-arrow:before {content: \"▸\";float: left;margin-right: 0.25em;color: #696969;}#sk-container-id-1 label.sk-toggleable__label-arrow:hover:before {color: black;}#sk-container-id-1 div.sk-estimator:hover label.sk-toggleable__label-arrow:before {color: black;}#sk-container-id-1 div.sk-toggleable__content {max-height: 0;max-width: 0;overflow: hidden;text-align: left;background-color: #f0f8ff;}#sk-container-id-1 div.sk-toggleable__content pre {margin: 0.2em;color: black;border-radius: 0.25em;background-color: #f0f8ff;}#sk-container-id-1 input.sk-toggleable__control:checked~div.sk-toggleable__content {max-height: 200px;max-width: 100%;overflow: auto;}#sk-container-id-1 input.sk-toggleable__control:checked~label.sk-toggleable__label-arrow:before {content: \"▾\";}#sk-container-id-1 div.sk-estimator input.sk-toggleable__control:checked~label.sk-toggleable__label {background-color: #d4ebff;}#sk-container-id-1 div.sk-label input.sk-toggleable__control:checked~label.sk-toggleable__label {background-color: #d4ebff;}#sk-container-id-1 input.sk-hidden--visually {border: 0;clip: rect(1px 1px 1px 1px);clip: rect(1px, 1px, 1px, 1px);height: 1px;margin: -1px;overflow: hidden;padding: 0;position: absolute;width: 1px;}#sk-container-id-1 div.sk-estimator {font-family: monospace;background-color: #f0f8ff;border: 1px dotted black;border-radius: 0.25em;box-sizing: border-box;margin-bottom: 0.5em;}#sk-container-id-1 div.sk-estimator:hover {background-color: #d4ebff;}#sk-container-id-1 div.sk-parallel-item::after {content: \"\";width: 100%;border-bottom: 1px solid gray;flex-grow: 1;}#sk-container-id-1 div.sk-label:hover label.sk-toggleable__label {background-color: #d4ebff;}#sk-container-id-1 div.sk-serial::before {content: \"\";position: absolute;border-left: 1px solid gray;box-sizing: border-box;top: 0;bottom: 0;left: 50%;z-index: 0;}#sk-container-id-1 div.sk-serial {display: flex;flex-direction: column;align-items: center;background-color: white;padding-right: 0.2em;padding-left: 0.2em;position: relative;}#sk-container-id-1 div.sk-item {position: relative;z-index: 1;}#sk-container-id-1 div.sk-parallel {display: flex;align-items: stretch;justify-content: center;background-color: white;position: relative;}#sk-container-id-1 div.sk-item::before, #sk-container-id-1 div.sk-parallel-item::before {content: \"\";position: absolute;border-left: 1px solid gray;box-sizing: border-box;top: 0;bottom: 0;left: 50%;z-index: -1;}#sk-container-id-1 div.sk-parallel-item {display: flex;flex-direction: column;z-index: 1;position: relative;background-color: white;}#sk-container-id-1 div.sk-parallel-item:first-child::after {align-self: flex-end;width: 50%;}#sk-container-id-1 div.sk-parallel-item:last-child::after {align-self: flex-start;width: 50%;}#sk-container-id-1 div.sk-parallel-item:only-child::after {width: 0;}#sk-container-id-1 div.sk-dashed-wrapped {border: 1px dashed gray;margin: 0 0.4em 0.5em 0.4em;box-sizing: border-box;padding-bottom: 0.4em;background-color: white;}#sk-container-id-1 div.sk-label label {font-family: monospace;font-weight: bold;display: inline-block;line-height: 1.2em;}#sk-container-id-1 div.sk-label-container {text-align: center;}#sk-container-id-1 div.sk-container {/* jupyter's `normalize.less` sets `[hidden] { display: none; }` but bootstrap.min.css set `[hidden] { display: none !important; }` so we also need the `!important` here to be able to override the default hidden behavior on the sphinx rendered scikit-learn.org. See: https://github.com/scikit-learn/scikit-learn/issues/21755 */display: inline-block !important;position: relative;}#sk-container-id-1 div.sk-text-repr-fallback {display: none;}</style><div id=\"sk-container-id-1\" class=\"sk-top-container\"><div class=\"sk-text-repr-fallback\"><pre>KNeighborsClassifier(n_neighbors=4)</pre><b>In a Jupyter environment, please rerun this cell to show the HTML representation or trust the notebook. <br />On GitHub, the HTML representation is unable to render, please try loading this page with nbviewer.org.</b></div><div class=\"sk-container\" hidden><div class=\"sk-item\"><div class=\"sk-estimator sk-toggleable\"><input class=\"sk-toggleable__control sk-hidden--visually\" id=\"sk-estimator-id-1\" type=\"checkbox\" checked><label for=\"sk-estimator-id-1\" class=\"sk-toggleable__label sk-toggleable__label-arrow\">KNeighborsClassifier</label><div class=\"sk-toggleable__content\"><pre>KNeighborsClassifier(n_neighbors=4)</pre></div></div></div></div></div>"
      ],
      "text/plain": [
       "KNeighborsClassifier(n_neighbors=4)"
      ]
     },
     "execution_count": 14,
     "metadata": {},
     "output_type": "execute_result"
    }
   ],
   "source": [
    "k = 4\n",
    "knn = KNeighborsClassifier(n_neighbors=k)\n",
    "knn.fit(X_train, y_train)"
   ]
  },
  {
   "cell_type": "markdown",
   "metadata": {},
   "source": [
    "### 6. Prediction\n",
    "\n",
    "Now that we've trained the model on our training data sets, we can make predictions."
   ]
  },
  {
   "cell_type": "code",
   "execution_count": 15,
   "metadata": {},
   "outputs": [],
   "source": [
    "predicted_y_classes = knn.predict(X_test)"
   ]
  },
  {
   "cell_type": "markdown",
   "metadata": {},
   "source": [
    "### 7. Accuracy Evaluation\n",
    "\n",
    "Now that we have predicted the predicted classes based on the algorithm, we can test to see how accurate our model was by comparing the predicted classes against the actual classes in `y_test`.\n",
    "\n",
    "We can manually compare the number of matches (`True` values) there are and divide that by the total number of values in our testing set. "
   ]
  },
  {
   "cell_type": "code",
   "execution_count": 16,
   "metadata": {},
   "outputs": [
    {
     "data": {
      "text/plain": [
       "0.27"
      ]
     },
     "execution_count": 16,
     "metadata": {},
     "output_type": "execute_result"
    }
   ],
   "source": [
    "sum(predicted_y_classes == y_test) / len(predicted_y_classes)"
   ]
  },
  {
   "cell_type": "code",
   "execution_count": 17,
   "metadata": {},
   "outputs": [
    {
     "name": "stdout",
     "output_type": "stream",
     "text": [
      "The training accuracy is 0.565\n",
      "The testing accuracy is 0.27\n"
     ]
    }
   ],
   "source": [
    "print(f'The training accuracy is {metrics.accuracy_score(y_train, knn.predict(X_train))}')\n",
    "print(f'The testing accuracy is {metrics.accuracy_score(y_test, predicted_y_classes)}')"
   ]
  },
  {
   "cell_type": "markdown",
   "metadata": {},
   "source": [
    "We can also derive this score manually using the formula above."
   ]
  },
  {
   "cell_type": "markdown",
   "metadata": {},
   "source": [
    "#### 7a. Confusion Matrix\n",
    "\n",
    "We can create a confusion matrix which shows the true values on one axis and the predicted values on the other axis."
   ]
  },
  {
   "cell_type": "code",
   "execution_count": 18,
   "metadata": {},
   "outputs": [
    {
     "data": {
      "image/png": "[encoded data removed]",
      "text/plain": [
       "<Figure size 432x288 with 2 Axes>"
      ]
     },
     "metadata": {
      "needs_background": "light"
     },
     "output_type": "display_data"
    }
   ],
   "source": [
    "cm = confusion_matrix(y_true=y_test, y_pred=predicted_y_classes)\n",
    "disp = ConfusionMatrixDisplay(confusion_matrix=cm, display_labels=[num for num in range(1, 5)])\n",
    "disp.plot()\n",
    "plt.show()"
   ]
  },
  {
   "cell_type": "markdown",
   "metadata": {},
   "source": [
    "In the very first cell in the top left corner, there are 24 instances where the true class is 1 and the predicted class is 1. In the cell directly to the right, there are 6 instances where the true value is 1, but our model predicted the value to be 2. "
   ]
  },
  {
   "cell_type": "markdown",
   "metadata": {},
   "source": [
    "#### 7b. Precision\n",
    "\n",
    "Precision is claulated as the ratio of true positives (classes classifed correctly) to the sum of true positives and false positives (tp / (tp + fp)). The sum of fp + fp can be seen in the columns of the confusion matrix. Intuitively, it's the ability of the classifier not to label negative as a positive. Of all the positive identifications, how many were actually correct? This is the ability to find all the positives."
   ]
  },
  {
   "cell_type": "code",
   "execution_count": 19,
   "metadata": {},
   "outputs": [
    {
     "name": "stdout",
     "output_type": "stream",
     "text": [
      "0.3037974683544304 0.1891891891891892 0.2786885245901639 0.2608695652173913\n"
     ]
    }
   ],
   "source": [
    "print(cm[0, 0] / sum(cm[:, 0]),\n",
    "     cm[1, 1] / sum(cm[:, 1]),\n",
    "     cm[2, 2] / sum(cm[:, 2]),\n",
    "     cm[3, 3] / sum(cm[:, 3])\n",
    "     )"
   ]
  },
  {
   "cell_type": "markdown",
   "metadata": {},
   "source": [
    "The first value can be interpreted as follows - when it predicts a class of 1, it is correct roughly 31% of the time. We don't need to calculate this by hand all the time, as we can turn to `sklearn`'s precision score to compute it for us. "
   ]
  },
  {
   "cell_type": "code",
   "execution_count": 20,
   "metadata": {},
   "outputs": [
    {
     "data": {
      "text/plain": [
       "array([0.30379747, 0.18918919, 0.27868852, 0.26086957])"
      ]
     },
     "execution_count": 20,
     "metadata": {},
     "output_type": "execute_result"
    }
   ],
   "source": [
    "precision_score(y_true=y_test, y_pred=predicted_y_classes, average=None)"
   ]
  },
  {
   "cell_type": "markdown",
   "metadata": {},
   "source": [
    "We can see that `sklearn`'s `precision_score` function returns the same values that we had manually calculated ourselves. Note that in the above example, it returns an array of length four, a precision score for each possible class in our data. However, it can also return one aggregated value by specifying a different value for the `average` argument."
   ]
  },
  {
   "cell_type": "code",
   "execution_count": 21,
   "metadata": {},
   "outputs": [
    {
     "data": {
      "text/plain": [
       "0.2581361868377937"
      ]
     },
     "execution_count": 21,
     "metadata": {},
     "output_type": "execute_result"
    }
   ],
   "source": [
    "precision_score(y_true=y_test, y_pred=predicted_y_classes, average='macro')"
   ]
  },
  {
   "cell_type": "markdown",
   "metadata": {},
   "source": [
    "In the above line of code, we specify `macro` into the `average` argument, which is identical to finding the unweighted average of all the precision scores for each one of the possible classes. We can see that in the below:"
   ]
  },
  {
   "cell_type": "code",
   "execution_count": 22,
   "metadata": {},
   "outputs": [
    {
     "data": {
      "text/plain": [
       "0.2581361868377937"
      ]
     },
     "execution_count": 22,
     "metadata": {},
     "output_type": "execute_result"
    }
   ],
   "source": [
    "np.mean(precision_score(y_true=y_test, y_pred=predicted_y_classes, average=None).tolist())"
   ]
  },
  {
   "cell_type": "markdown",
   "metadata": {},
   "source": [
    "#### 7c. Recall\n",
    "\n",
    "Recall is the ratio of true positives to the sum of true positives and false negatives. Mathematically *tp / (tp + fn)*. \n",
    "\n",
    "Intuitively, we can think of recall as the classifier's ability to find all the positive samples. In other words, what proportion of actual positives was identified correctly. "
   ]
  },
  {
   "cell_type": "code",
   "execution_count": 23,
   "metadata": {},
   "outputs": [
    {
     "name": "stdout",
     "output_type": "stream",
     "text": [
      "0.48 0.16279069767441862 0.29310344827586204 0.12244897959183673\n"
     ]
    }
   ],
   "source": [
    "print(cm[0, 0] / sum(cm[0]),\n",
    "      cm[1, 1] / sum(cm[1]),\n",
    "      cm[2, 2] / sum(cm[2]),\n",
    "      cm[3, 3] / sum(cm[3])\n",
    "     )"
   ]
  },
  {
   "cell_type": "code",
   "execution_count": 24,
   "metadata": {},
   "outputs": [
    {
     "data": {
      "text/plain": [
       "array([0.48      , 0.1627907 , 0.29310345, 0.12244898])"
      ]
     },
     "execution_count": 24,
     "metadata": {},
     "output_type": "execute_result"
    }
   ],
   "source": [
    "recall_score(y_true=y_test, y_pred=predicted_y_classes, average=None)"
   ]
  },
  {
   "cell_type": "markdown",
   "metadata": {},
   "source": [
    "Recall is particularly helpful when our data is unbalanced in one direction. For example, in the binary case, it's possible that the frequency of negatives greatly outnumbers the frequency of positives (terrorist). In reality, very few flyers are terrorists. If our imaginary classifying model arbitrarily labels everyone as not a terrorist, it would be incredibly accurate! Recall says the model correctly identifies xx% of all terrorists. On the other hand, precision says, when the model predicts a terrorist, it is right xx% of the time."
   ]
  },
  {
   "cell_type": "markdown",
   "metadata": {},
   "source": [
    "Precision and recall have an inverse relationship. That is, as precision increases, recall decreases and vice versa. \n",
    "\n",
    "Let's revisit the simple binary example of classifying individuals as terrorists vs. non-terrorists. In the extreme case, if we label a single person as a terrorist and there are no people incorrectly identified as a terrorist, then we have perfect preicision. Of the one person we identified as a terrorist, they were a terrorist. The precision is high due to our small sample size of terrorist labelling. However, we will have really low recall because there will be plenty of people that we incorrectly labeled as not a terrorist even though they were terrorists. On the other extreme, we can have high recall which is achieved by calling everyone a terrorist. There will be no people incorrectly labeled as not terrorist because everyone is (practically this isn't every helpful since no one would fly). However, there would be low precision because of all the people we labeled terrorists (everyone), only a few would actually be terrorists."
   ]
  },
  {
   "cell_type": "markdown",
   "metadata": {},
   "source": [
    "#### 7d. F1 Score\n",
    "\n",
    "We can also calculate the F1 score which takes into account precision and recall. The F1 score is its best when it has a value of 1 and at its worst when at a value of 0. Its formula is:\n",
    "\n",
    "$F1 = 2 * (precision * recall) / (precision + recall)$"
   ]
  },
  {
   "cell_type": "code",
   "execution_count": 25,
   "metadata": {},
   "outputs": [
    {
     "name": "stdout",
     "output_type": "stream",
     "text": [
      "The F1 score for class 1 is 0.37209302325581395\n"
     ]
    }
   ],
   "source": [
    "class1_precision = cm[0, 0] / sum(cm[:, 0])\n",
    "class1_recall = cm[0, 0] / sum(cm[0])\n",
    "class1_f1 = 2 * (class1_precision * class1_recall) / (class1_precision + class1_recall)\n",
    "\n",
    "print(f'The F1 score for class 1 is {class1_f1}')"
   ]
  },
  {
   "cell_type": "markdown",
   "metadata": {},
   "source": [
    "And of course, we can call on the function from `sklearn` which does the same thing for us."
   ]
  },
  {
   "cell_type": "code",
   "execution_count": 26,
   "metadata": {},
   "outputs": [
    {
     "data": {
      "text/plain": [
       "0.37209302325581395"
      ]
     },
     "execution_count": 26,
     "metadata": {},
     "output_type": "execute_result"
    }
   ],
   "source": [
    "f1_score(y_true=y_test, y_pred=predicted_y_classes, average=None)[0]"
   ]
  },
  {
   "cell_type": "markdown",
   "metadata": {},
   "source": [
    "### 8. Other Values of K\n",
    "\n",
    "K is a value specified by the user. But how do we specify the \"right\" k? If we choose too little K, this can result in poor out of sample accuracy because there may not be enough number of neighbors. Any outliers may mislead the classification. Alternatively, if we choose too many K, then we may have trained our model too well on the training data and it will perform poorly on out of sample data."
   ]
  },
  {
   "cell_type": "code",
   "execution_count": 27,
   "metadata": {},
   "outputs": [],
   "source": [
    "Ks = 10\n",
    "\n",
    "accuracy_scores = []\n",
    "for k in range(1, Ks): \n",
    "    knn = KNeighborsClassifier(n_neighbors=k)\n",
    "    knn.fit(X_train, y_train)\n",
    "    y_hat = knn.predict(X_test)\n",
    "    \n",
    "    accuracy = metrics.accuracy_score(y_test, y_hat)\n",
    "    accuracy_scores.append(accuracy)"
   ]
  },
  {
   "cell_type": "code",
   "execution_count": 28,
   "metadata": {},
   "outputs": [
    {
     "data": {
      "text/plain": [
       "<AxesSubplot:xlabel='Ks', ylabel='AccuracyScores'>"
      ]
     },
     "execution_count": 28,
     "metadata": {},
     "output_type": "execute_result"
    },
    {
     "data": {
      "image/png": "[encoded data removed]",
      "text/plain": [
       "<Figure size 432x288 with 1 Axes>"
      ]
     },
     "metadata": {
      "needs_background": "light"
     },
     "output_type": "display_data"
    }
   ],
   "source": [
    "accuracy_df = pd.DataFrame({'Ks': [k for k in range(1, Ks)], 'AccuracyScores': accuracy_scores})\n",
    "sns.lineplot(data=accuracy_df, x='Ks', y='AccuracyScores')"
   ]
  },
  {
   "cell_type": "code",
   "execution_count": 29,
   "metadata": {},
   "outputs": [],
   "source": [
    "optimal_values = accuracy_df[accuracy_df['AccuracyScores'] == max(accuracy_df['AccuracyScores'])]"
   ]
  },
  {
   "cell_type": "code",
   "execution_count": 30,
   "metadata": {},
   "outputs": [
    {
     "name": "stdout",
     "output_type": "stream",
     "text": [
      "The optimal number of neighbors is 8 which is associated with an accuracy score of 0.335.\n"
     ]
    }
   ],
   "source": [
    "print(f'The optimal number of neighbors is {optimal_values.Ks.values[0]} which is associated with an accuracy score of {optimal_values.AccuracyScores.values[0]}.')"
   ]
  }
 ],
 "metadata": {
  "kernelspec": {
   "display_name": "Python 3.9.12 64-bit",
   "language": "python",
   "name": "python3"
  },
  "language_info": {
   "codemirror_mode": {
    "name": "ipython",
    "version": 3
   },
   "file_extension": ".py",
   "mimetype": "text/x-python",
   "name": "python",
   "nbconvert_exporter": "python",
   "pygments_lexer": "ipython3",
   "version": "3.9.12"
  },
  "orig_nbformat": 4,
  "vscode": {
   "interpreter": {
    "hash": "aee8b7b246df8f9039afb4144a1f6fd8d2ca17a180786b69acc140d282b71a49"
   }
  }
 },
 "nbformat": 4,
 "nbformat_minor": 2
}
