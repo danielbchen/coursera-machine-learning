{
 "cells": [
  {
   "cell_type": "markdown",
   "id": "4a9c28e6",
   "metadata": {},
   "source": [
    "# Modeling with Multiple Linear Regression\n",
    "\n",
    "This modeling exercise is from the course Machine Learning with Python on Coursera. Here we explore multiple linear regression."
   ]
  },
  {
   "cell_type": "markdown",
   "id": "e6a518dc",
   "metadata": {},
   "source": [
    "## 1. Import relevant libraries"
   ]
  },
  {
   "cell_type": "code",
   "execution_count": 1,
   "id": "7ce8b3f1",
   "metadata": {},
   "outputs": [],
   "source": [
    "import os\n",
    "import pandas as pd\n",
    "import numpy as np \n",
    "import matplotlib.pyplot as plt\n",
    "\n",
    "from sklearn import linear_model\n",
    "from sklearn.model_selection import train_test_split\n",
    "from sklearn.metrics import r2_score"
   ]
  },
  {
   "cell_type": "markdown",
   "id": "672a7663",
   "metadata": {},
   "source": [
    "## 2. Load dataset"
   ]
  },
  {
   "cell_type": "code",
   "execution_count": 2,
   "id": "e960a7c2",
   "metadata": {},
   "outputs": [
    {
     "data": {
      "text/html": [
       "<div>\n",
       "<style scoped>\n",
       "    .dataframe tbody tr th:only-of-type {\n",
       "        vertical-align: middle;\n",
       "    }\n",
       "\n",
       "    .dataframe tbody tr th {\n",
       "        vertical-align: top;\n",
       "    }\n",
       "\n",
       "    .dataframe thead th {\n",
       "        text-align: right;\n",
       "    }\n",
       "</style>\n",
       "<table border=\"1\" class=\"dataframe\">\n",
       "  <thead>\n",
       "    <tr style=\"text-align: right;\">\n",
       "      <th></th>\n",
       "      <th>MODELYEAR</th>\n",
       "      <th>MAKE</th>\n",
       "      <th>MODEL</th>\n",
       "      <th>VEHICLECLASS</th>\n",
       "      <th>ENGINESIZE</th>\n",
       "      <th>CYLINDERS</th>\n",
       "      <th>TRANSMISSION</th>\n",
       "      <th>FUELTYPE</th>\n",
       "      <th>FUELCONSUMPTION_CITY</th>\n",
       "      <th>FUELCONSUMPTION_HWY</th>\n",
       "      <th>FUELCONSUMPTION_COMB</th>\n",
       "      <th>FUELCONSUMPTION_COMB_MPG</th>\n",
       "      <th>CO2EMISSIONS</th>\n",
       "    </tr>\n",
       "  </thead>\n",
       "  <tbody>\n",
       "    <tr>\n",
       "      <th>0</th>\n",
       "      <td>2014</td>\n",
       "      <td>ACURA</td>\n",
       "      <td>ILX</td>\n",
       "      <td>COMPACT</td>\n",
       "      <td>2.0</td>\n",
       "      <td>4</td>\n",
       "      <td>AS5</td>\n",
       "      <td>Z</td>\n",
       "      <td>9.9</td>\n",
       "      <td>6.7</td>\n",
       "      <td>8.5</td>\n",
       "      <td>33</td>\n",
       "      <td>196</td>\n",
       "    </tr>\n",
       "    <tr>\n",
       "      <th>1</th>\n",
       "      <td>2014</td>\n",
       "      <td>ACURA</td>\n",
       "      <td>ILX</td>\n",
       "      <td>COMPACT</td>\n",
       "      <td>2.4</td>\n",
       "      <td>4</td>\n",
       "      <td>M6</td>\n",
       "      <td>Z</td>\n",
       "      <td>11.2</td>\n",
       "      <td>7.7</td>\n",
       "      <td>9.6</td>\n",
       "      <td>29</td>\n",
       "      <td>221</td>\n",
       "    </tr>\n",
       "    <tr>\n",
       "      <th>2</th>\n",
       "      <td>2014</td>\n",
       "      <td>ACURA</td>\n",
       "      <td>ILX HYBRID</td>\n",
       "      <td>COMPACT</td>\n",
       "      <td>1.5</td>\n",
       "      <td>4</td>\n",
       "      <td>AV7</td>\n",
       "      <td>Z</td>\n",
       "      <td>6.0</td>\n",
       "      <td>5.8</td>\n",
       "      <td>5.9</td>\n",
       "      <td>48</td>\n",
       "      <td>136</td>\n",
       "    </tr>\n",
       "    <tr>\n",
       "      <th>3</th>\n",
       "      <td>2014</td>\n",
       "      <td>ACURA</td>\n",
       "      <td>MDX 4WD</td>\n",
       "      <td>SUV - SMALL</td>\n",
       "      <td>3.5</td>\n",
       "      <td>6</td>\n",
       "      <td>AS6</td>\n",
       "      <td>Z</td>\n",
       "      <td>12.7</td>\n",
       "      <td>9.1</td>\n",
       "      <td>11.1</td>\n",
       "      <td>25</td>\n",
       "      <td>255</td>\n",
       "    </tr>\n",
       "    <tr>\n",
       "      <th>4</th>\n",
       "      <td>2014</td>\n",
       "      <td>ACURA</td>\n",
       "      <td>RDX AWD</td>\n",
       "      <td>SUV - SMALL</td>\n",
       "      <td>3.5</td>\n",
       "      <td>6</td>\n",
       "      <td>AS6</td>\n",
       "      <td>Z</td>\n",
       "      <td>12.1</td>\n",
       "      <td>8.7</td>\n",
       "      <td>10.6</td>\n",
       "      <td>27</td>\n",
       "      <td>244</td>\n",
       "    </tr>\n",
       "    <tr>\n",
       "      <th>...</th>\n",
       "      <td>...</td>\n",
       "      <td>...</td>\n",
       "      <td>...</td>\n",
       "      <td>...</td>\n",
       "      <td>...</td>\n",
       "      <td>...</td>\n",
       "      <td>...</td>\n",
       "      <td>...</td>\n",
       "      <td>...</td>\n",
       "      <td>...</td>\n",
       "      <td>...</td>\n",
       "      <td>...</td>\n",
       "      <td>...</td>\n",
       "    </tr>\n",
       "    <tr>\n",
       "      <th>1062</th>\n",
       "      <td>2014</td>\n",
       "      <td>VOLVO</td>\n",
       "      <td>XC60 AWD</td>\n",
       "      <td>SUV - SMALL</td>\n",
       "      <td>3.0</td>\n",
       "      <td>6</td>\n",
       "      <td>AS6</td>\n",
       "      <td>X</td>\n",
       "      <td>13.4</td>\n",
       "      <td>9.8</td>\n",
       "      <td>11.8</td>\n",
       "      <td>24</td>\n",
       "      <td>271</td>\n",
       "    </tr>\n",
       "    <tr>\n",
       "      <th>1063</th>\n",
       "      <td>2014</td>\n",
       "      <td>VOLVO</td>\n",
       "      <td>XC60 AWD</td>\n",
       "      <td>SUV - SMALL</td>\n",
       "      <td>3.2</td>\n",
       "      <td>6</td>\n",
       "      <td>AS6</td>\n",
       "      <td>X</td>\n",
       "      <td>13.2</td>\n",
       "      <td>9.5</td>\n",
       "      <td>11.5</td>\n",
       "      <td>25</td>\n",
       "      <td>264</td>\n",
       "    </tr>\n",
       "    <tr>\n",
       "      <th>1064</th>\n",
       "      <td>2014</td>\n",
       "      <td>VOLVO</td>\n",
       "      <td>XC70 AWD</td>\n",
       "      <td>SUV - SMALL</td>\n",
       "      <td>3.0</td>\n",
       "      <td>6</td>\n",
       "      <td>AS6</td>\n",
       "      <td>X</td>\n",
       "      <td>13.4</td>\n",
       "      <td>9.8</td>\n",
       "      <td>11.8</td>\n",
       "      <td>24</td>\n",
       "      <td>271</td>\n",
       "    </tr>\n",
       "    <tr>\n",
       "      <th>1065</th>\n",
       "      <td>2014</td>\n",
       "      <td>VOLVO</td>\n",
       "      <td>XC70 AWD</td>\n",
       "      <td>SUV - SMALL</td>\n",
       "      <td>3.2</td>\n",
       "      <td>6</td>\n",
       "      <td>AS6</td>\n",
       "      <td>X</td>\n",
       "      <td>12.9</td>\n",
       "      <td>9.3</td>\n",
       "      <td>11.3</td>\n",
       "      <td>25</td>\n",
       "      <td>260</td>\n",
       "    </tr>\n",
       "    <tr>\n",
       "      <th>1066</th>\n",
       "      <td>2014</td>\n",
       "      <td>VOLVO</td>\n",
       "      <td>XC90 AWD</td>\n",
       "      <td>SUV - STANDARD</td>\n",
       "      <td>3.2</td>\n",
       "      <td>6</td>\n",
       "      <td>AS6</td>\n",
       "      <td>X</td>\n",
       "      <td>14.9</td>\n",
       "      <td>10.2</td>\n",
       "      <td>12.8</td>\n",
       "      <td>22</td>\n",
       "      <td>294</td>\n",
       "    </tr>\n",
       "  </tbody>\n",
       "</table>\n",
       "<p>1067 rows × 13 columns</p>\n",
       "</div>"
      ],
      "text/plain": [
       "      MODELYEAR   MAKE       MODEL    VEHICLECLASS  ENGINESIZE  CYLINDERS  \\\n",
       "0          2014  ACURA         ILX         COMPACT         2.0          4   \n",
       "1          2014  ACURA         ILX         COMPACT         2.4          4   \n",
       "2          2014  ACURA  ILX HYBRID         COMPACT         1.5          4   \n",
       "3          2014  ACURA     MDX 4WD     SUV - SMALL         3.5          6   \n",
       "4          2014  ACURA     RDX AWD     SUV - SMALL         3.5          6   \n",
       "...         ...    ...         ...             ...         ...        ...   \n",
       "1062       2014  VOLVO    XC60 AWD     SUV - SMALL         3.0          6   \n",
       "1063       2014  VOLVO    XC60 AWD     SUV - SMALL         3.2          6   \n",
       "1064       2014  VOLVO    XC70 AWD     SUV - SMALL         3.0          6   \n",
       "1065       2014  VOLVO    XC70 AWD     SUV - SMALL         3.2          6   \n",
       "1066       2014  VOLVO    XC90 AWD  SUV - STANDARD         3.2          6   \n",
       "\n",
       "     TRANSMISSION FUELTYPE  FUELCONSUMPTION_CITY  FUELCONSUMPTION_HWY  \\\n",
       "0             AS5        Z                   9.9                  6.7   \n",
       "1              M6        Z                  11.2                  7.7   \n",
       "2             AV7        Z                   6.0                  5.8   \n",
       "3             AS6        Z                  12.7                  9.1   \n",
       "4             AS6        Z                  12.1                  8.7   \n",
       "...           ...      ...                   ...                  ...   \n",
       "1062          AS6        X                  13.4                  9.8   \n",
       "1063          AS6        X                  13.2                  9.5   \n",
       "1064          AS6        X                  13.4                  9.8   \n",
       "1065          AS6        X                  12.9                  9.3   \n",
       "1066          AS6        X                  14.9                 10.2   \n",
       "\n",
       "      FUELCONSUMPTION_COMB  FUELCONSUMPTION_COMB_MPG  CO2EMISSIONS  \n",
       "0                      8.5                        33           196  \n",
       "1                      9.6                        29           221  \n",
       "2                      5.9                        48           136  \n",
       "3                     11.1                        25           255  \n",
       "4                     10.6                        27           244  \n",
       "...                    ...                       ...           ...  \n",
       "1062                  11.8                        24           271  \n",
       "1063                  11.5                        25           264  \n",
       "1064                  11.8                        24           271  \n",
       "1065                  11.3                        25           260  \n",
       "1066                  12.8                        22           294  \n",
       "\n",
       "[1067 rows x 13 columns]"
      ]
     },
     "execution_count": 2,
     "metadata": {},
     "output_type": "execute_result"
    }
   ],
   "source": [
    "data_path = '/Users/danielchen/Desktop/Coding/Python/Coursera/Machine Learning Python/Data/FuelConsumptionCo2.csv'\n",
    "data = pd.read_csv(data_path)\n",
    "data"
   ]
  },
  {
   "cell_type": "markdown",
   "id": "1fb95d78",
   "metadata": {},
   "source": [
    "## 3. Fitting the Model"
   ]
  },
  {
   "cell_type": "markdown",
   "id": "c9051e1e",
   "metadata": {},
   "source": [
    "The steps for the machine learning pipeline in the multivariable case are the exact same as the case of simple linear regression. We split our data into a train test split and then fir the linear regression on the training data. Then we predict and evaluate."
   ]
  },
  {
   "cell_type": "code",
   "execution_count": 3,
   "id": "c5407d68",
   "metadata": {},
   "outputs": [],
   "source": [
    "linreg = linear_model.LinearRegression()\n",
    "X_train, X_test, y_train, y_test = train_test_split(\n",
    "    data[['ENGINESIZE', 'CYLINDERS', 'FUELCONSUMPTION_COMB']],\n",
    "    data[['CO2EMISSIONS']],\n",
    "    test_size=0.2,\n",
    "    random_state=23\n",
    ")"
   ]
  },
  {
   "cell_type": "code",
   "execution_count": 4,
   "id": "8bb85e50",
   "metadata": {},
   "outputs": [
    {
     "data": {
      "text/plain": [
       "LinearRegression()"
      ]
     },
     "execution_count": 4,
     "metadata": {},
     "output_type": "execute_result"
    }
   ],
   "source": [
    "linreg.fit(X_train, y_train)"
   ]
  },
  {
   "cell_type": "code",
   "execution_count": 5,
   "id": "09962b58",
   "metadata": {},
   "outputs": [
    {
     "data": {
      "text/plain": [
       "'The coefficients of the model are 10.990037482254897, 7.963658885721354, 9.482656568443034'"
      ]
     },
     "execution_count": 5,
     "metadata": {},
     "output_type": "execute_result"
    }
   ],
   "source": [
    "f'The coefficients of the model are {\", \".join([str(coef) for coef in linreg.coef_[0]])}'"
   ]
  },
  {
   "cell_type": "markdown",
   "id": "b6d24bef",
   "metadata": {},
   "source": [
    "Note that sklearn uses OLS to determine the coefficients. However, OLS may not be optimal as it uses matrix operations which become time consuming on large datasets (those over 10K rows). Optimization algorithms present alternatives to solving the problem, such as gradient descent, but those topics will not be covered here."
   ]
  },
  {
   "cell_type": "markdown",
   "id": "4b109cdb",
   "metadata": {},
   "source": [
    "## 4. Prediction"
   ]
  },
  {
   "cell_type": "markdown",
   "id": "5dbf5cd4",
   "metadata": {},
   "source": [
    "Prediction is the same as what we did for the simple linear model. After fitting the model, we predict outcomes of Y by using our `X_test` data set."
   ]
  },
  {
   "cell_type": "code",
   "execution_count": 6,
   "id": "20aceb23",
   "metadata": {},
   "outputs": [],
   "source": [
    "y_hat = linreg.predict(X_test)"
   ]
  },
  {
   "cell_type": "markdown",
   "id": "d70c65e0",
   "metadata": {},
   "source": [
    "## 5. Evaluation"
   ]
  },
  {
   "cell_type": "markdown",
   "id": "2ea2169a",
   "metadata": {},
   "source": [
    "Here we have two options for evaluation. The first is the residual sum of squares. This is a measure of error (how far each predicted value was from the actual value) squared."
   ]
  },
  {
   "cell_type": "code",
   "execution_count": 7,
   "id": "8dc55b43",
   "metadata": {},
   "outputs": [
    {
     "data": {
      "text/plain": [
       "'The residual sum of squares is 488.65'"
      ]
     },
     "execution_count": 7,
     "metadata": {},
     "output_type": "execute_result"
    }
   ],
   "source": [
    "f'The residual sum of squares is {np.round(np.mean(np.power(y_hat - y_test, 2).CO2EMISSIONS), 2)}'"
   ]
  },
  {
   "cell_type": "markdown",
   "id": "e4155a98",
   "metadata": {},
   "source": [
    "The second option we have is the explained variance regression score. In plain English, how well does our model account for the variance of the data set. This is a proportion, so the max score is 1 and the min score is 0. We should be skeptical of a score of 1 because we would have an overfit model. Our model likely won't perform well on outside data as it has learned this data set too well."
   ]
  },
  {
   "cell_type": "code",
   "execution_count": 8,
   "id": "63bb8eb8",
   "metadata": {},
   "outputs": [
    {
     "data": {
      "text/plain": [
       "'The variance score is 0.86'"
      ]
     },
     "execution_count": 8,
     "metadata": {},
     "output_type": "execute_result"
    }
   ],
   "source": [
    "explained_variance = linreg.score(X_test, y_test)\n",
    "f'The variance score is {np.round(explained_variance, 2)}'"
   ]
  },
  {
   "cell_type": "markdown",
   "id": "671f4cb9",
   "metadata": {},
   "source": [
    "## 6. Model Two\n",
    "\n",
    "Instead of `FUELCONSUMPTION_COMB`, we will use `FUELCONSUMPTION_CITY` and `FUELCONSUMPTION_HWY` in our model to predict `CO2EMISSIONS`."
   ]
  },
  {
   "cell_type": "code",
   "execution_count": 9,
   "id": "b01f61f4",
   "metadata": {},
   "outputs": [],
   "source": [
    "# Instantiate the class\n",
    "reg = linear_model.LinearRegression()"
   ]
  },
  {
   "cell_type": "code",
   "execution_count": 10,
   "id": "e56646a0",
   "metadata": {},
   "outputs": [],
   "source": [
    "# Split the data into training and testing sets\n",
    "X_train, X_test, y_train, y_test = train_test_split(\n",
    "    data[['ENGINESIZE', 'CYLINDERS', 'FUELCONSUMPTION_CITY', 'FUELCONSUMPTION_COMB']],\n",
    "    data[['CO2EMISSIONS']],\n",
    "    test_size=.20,\n",
    "    random_state=23\n",
    ")"
   ]
  },
  {
   "cell_type": "code",
   "execution_count": 11,
   "id": "1c332cc2",
   "metadata": {},
   "outputs": [
    {
     "data": {
      "text/plain": [
       "LinearRegression()"
      ]
     },
     "execution_count": 11,
     "metadata": {},
     "output_type": "execute_result"
    }
   ],
   "source": [
    "# Fit the model\n",
    "reg.fit(X_train, y_train)"
   ]
  },
  {
   "cell_type": "code",
   "execution_count": 12,
   "id": "2d95cc8c",
   "metadata": {},
   "outputs": [],
   "source": [
    "# Predict\n",
    "y_hat = reg.predict(X_test)"
   ]
  },
  {
   "cell_type": "code",
   "execution_count": 13,
   "id": "b75cdbc6",
   "metadata": {},
   "outputs": [
    {
     "data": {
      "text/plain": [
       "491.86"
      ]
     },
     "execution_count": 13,
     "metadata": {},
     "output_type": "execute_result"
    }
   ],
   "source": [
    "# Residual sum of squares\n",
    "np.round(np.mean(np.power(y_hat - y_test, 2).CO2EMISSIONS), 2)"
   ]
  },
  {
   "cell_type": "code",
   "execution_count": 14,
   "id": "c8c9cef7",
   "metadata": {},
   "outputs": [
    {
     "data": {
      "text/plain": [
       "'The explained variance is: 0.8580731159241379'"
      ]
     },
     "execution_count": 14,
     "metadata": {},
     "output_type": "execute_result"
    }
   ],
   "source": [
    "# Explained variance score\n",
    "f'The explained variance is: {reg.score(X_test, y_test)}'"
   ]
  },
  {
   "cell_type": "markdown",
   "id": "160213e3",
   "metadata": {},
   "source": [
    "## 7. Cross Validation"
   ]
  },
  {
   "cell_type": "code",
   "execution_count": 15,
   "id": "dc7e1538",
   "metadata": {},
   "outputs": [],
   "source": [
    "from sklearn.model_selection import cross_validate"
   ]
  },
  {
   "cell_type": "code",
   "execution_count": 35,
   "id": "3f93eff6",
   "metadata": {},
   "outputs": [],
   "source": [
    "metrics = cross_validate(\n",
    "    estimator=linear_model.LinearRegression(),\n",
    "    X=data[['ENGINESIZE', 'CYLINDERS', 'FUELCONSUMPTION_COMB']],\n",
    "    y=data[['CO2EMISSIONS']],\n",
    "    cv=10,\n",
    "    scoring='explained_variance'\n",
    ")"
   ]
  },
  {
   "cell_type": "markdown",
   "id": "3dcdec08",
   "metadata": {},
   "source": [
    "By default, the score returned for the multiple linear regression model is R-squared, but that may not be appropriate here since R-squared will always be weakly increasing once we add more explanatory variables to the model. By adding more independent variables to the model, our R-squared score will never decrease."
   ]
  },
  {
   "cell_type": "code",
   "execution_count": 45,
   "id": "8d92928c",
   "metadata": {},
   "outputs": [
    {
     "data": {
      "text/plain": [
       "'The mean explained variance of our model is: 0.8642145363685009'"
      ]
     },
     "execution_count": 45,
     "metadata": {},
     "output_type": "execute_result"
    }
   ],
   "source": [
    "f'The mean explained variance of our model is: {np.mean(metrics[\"test_score\"])}'"
   ]
  }
 ],
 "metadata": {
  "kernelspec": {
   "display_name": "Python 3",
   "language": "python",
   "name": "python3"
  },
  "language_info": {
   "codemirror_mode": {
    "name": "ipython",
    "version": 3
   },
   "file_extension": ".py",
   "mimetype": "text/x-python",
   "name": "python",
   "nbconvert_exporter": "python",
   "pygments_lexer": "ipython3",
   "version": "3.7.6"
  }
 },
 "nbformat": 4,
 "nbformat_minor": 5
}
