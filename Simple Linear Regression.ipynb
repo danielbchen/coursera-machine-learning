{
 "cells": [
  {
   "cell_type": "markdown",
   "id": "9c32ca36",
   "metadata": {},
   "source": [
    "# Modeling with Linear Regression\n",
    "\n",
    "This modeling exercise is from the machine learning course Machine Learning with Python on Coursera. Here we explore simple linear regression."
   ]
  },
  {
   "cell_type": "markdown",
   "id": "82160e16",
   "metadata": {},
   "source": [
    "## 1. Import relevant libraries"
   ]
  },
  {
   "cell_type": "code",
   "execution_count": 1,
   "id": "2290b140",
   "metadata": {},
   "outputs": [],
   "source": [
    "import os\n",
    "import pandas as pd\n",
    "import numpy as np\n",
    "import matplotlib.pyplot as plt\n",
    "\n",
    "from sklearn import linear_model\n",
    "from sklearn.model_selection import train_test_split\n",
    "from sklearn.metrics import r2_score"
   ]
  },
  {
   "cell_type": "markdown",
   "id": "6425156f",
   "metadata": {},
   "source": [
    "## 2. Load dataset"
   ]
  },
  {
   "cell_type": "code",
   "execution_count": 2,
   "id": "ef78bc99",
   "metadata": {},
   "outputs": [
    {
     "data": {
      "text/html": [
       "<div>\n",
       "<style scoped>\n",
       "    .dataframe tbody tr th:only-of-type {\n",
       "        vertical-align: middle;\n",
       "    }\n",
       "\n",
       "    .dataframe tbody tr th {\n",
       "        vertical-align: top;\n",
       "    }\n",
       "\n",
       "    .dataframe thead th {\n",
       "        text-align: right;\n",
       "    }\n",
       "</style>\n",
       "<table border=\"1\" class=\"dataframe\">\n",
       "  <thead>\n",
       "    <tr style=\"text-align: right;\">\n",
       "      <th></th>\n",
       "      <th>MODELYEAR</th>\n",
       "      <th>MAKE</th>\n",
       "      <th>MODEL</th>\n",
       "      <th>VEHICLECLASS</th>\n",
       "      <th>ENGINESIZE</th>\n",
       "      <th>CYLINDERS</th>\n",
       "      <th>TRANSMISSION</th>\n",
       "      <th>FUELTYPE</th>\n",
       "      <th>FUELCONSUMPTION_CITY</th>\n",
       "      <th>FUELCONSUMPTION_HWY</th>\n",
       "      <th>FUELCONSUMPTION_COMB</th>\n",
       "      <th>FUELCONSUMPTION_COMB_MPG</th>\n",
       "      <th>CO2EMISSIONS</th>\n",
       "    </tr>\n",
       "  </thead>\n",
       "  <tbody>\n",
       "    <tr>\n",
       "      <th>0</th>\n",
       "      <td>2014</td>\n",
       "      <td>ACURA</td>\n",
       "      <td>ILX</td>\n",
       "      <td>COMPACT</td>\n",
       "      <td>2.0</td>\n",
       "      <td>4</td>\n",
       "      <td>AS5</td>\n",
       "      <td>Z</td>\n",
       "      <td>9.9</td>\n",
       "      <td>6.7</td>\n",
       "      <td>8.5</td>\n",
       "      <td>33</td>\n",
       "      <td>196</td>\n",
       "    </tr>\n",
       "    <tr>\n",
       "      <th>1</th>\n",
       "      <td>2014</td>\n",
       "      <td>ACURA</td>\n",
       "      <td>ILX</td>\n",
       "      <td>COMPACT</td>\n",
       "      <td>2.4</td>\n",
       "      <td>4</td>\n",
       "      <td>M6</td>\n",
       "      <td>Z</td>\n",
       "      <td>11.2</td>\n",
       "      <td>7.7</td>\n",
       "      <td>9.6</td>\n",
       "      <td>29</td>\n",
       "      <td>221</td>\n",
       "    </tr>\n",
       "    <tr>\n",
       "      <th>2</th>\n",
       "      <td>2014</td>\n",
       "      <td>ACURA</td>\n",
       "      <td>ILX HYBRID</td>\n",
       "      <td>COMPACT</td>\n",
       "      <td>1.5</td>\n",
       "      <td>4</td>\n",
       "      <td>AV7</td>\n",
       "      <td>Z</td>\n",
       "      <td>6.0</td>\n",
       "      <td>5.8</td>\n",
       "      <td>5.9</td>\n",
       "      <td>48</td>\n",
       "      <td>136</td>\n",
       "    </tr>\n",
       "    <tr>\n",
       "      <th>3</th>\n",
       "      <td>2014</td>\n",
       "      <td>ACURA</td>\n",
       "      <td>MDX 4WD</td>\n",
       "      <td>SUV - SMALL</td>\n",
       "      <td>3.5</td>\n",
       "      <td>6</td>\n",
       "      <td>AS6</td>\n",
       "      <td>Z</td>\n",
       "      <td>12.7</td>\n",
       "      <td>9.1</td>\n",
       "      <td>11.1</td>\n",
       "      <td>25</td>\n",
       "      <td>255</td>\n",
       "    </tr>\n",
       "    <tr>\n",
       "      <th>4</th>\n",
       "      <td>2014</td>\n",
       "      <td>ACURA</td>\n",
       "      <td>RDX AWD</td>\n",
       "      <td>SUV - SMALL</td>\n",
       "      <td>3.5</td>\n",
       "      <td>6</td>\n",
       "      <td>AS6</td>\n",
       "      <td>Z</td>\n",
       "      <td>12.1</td>\n",
       "      <td>8.7</td>\n",
       "      <td>10.6</td>\n",
       "      <td>27</td>\n",
       "      <td>244</td>\n",
       "    </tr>\n",
       "    <tr>\n",
       "      <th>...</th>\n",
       "      <td>...</td>\n",
       "      <td>...</td>\n",
       "      <td>...</td>\n",
       "      <td>...</td>\n",
       "      <td>...</td>\n",
       "      <td>...</td>\n",
       "      <td>...</td>\n",
       "      <td>...</td>\n",
       "      <td>...</td>\n",
       "      <td>...</td>\n",
       "      <td>...</td>\n",
       "      <td>...</td>\n",
       "      <td>...</td>\n",
       "    </tr>\n",
       "    <tr>\n",
       "      <th>1062</th>\n",
       "      <td>2014</td>\n",
       "      <td>VOLVO</td>\n",
       "      <td>XC60 AWD</td>\n",
       "      <td>SUV - SMALL</td>\n",
       "      <td>3.0</td>\n",
       "      <td>6</td>\n",
       "      <td>AS6</td>\n",
       "      <td>X</td>\n",
       "      <td>13.4</td>\n",
       "      <td>9.8</td>\n",
       "      <td>11.8</td>\n",
       "      <td>24</td>\n",
       "      <td>271</td>\n",
       "    </tr>\n",
       "    <tr>\n",
       "      <th>1063</th>\n",
       "      <td>2014</td>\n",
       "      <td>VOLVO</td>\n",
       "      <td>XC60 AWD</td>\n",
       "      <td>SUV - SMALL</td>\n",
       "      <td>3.2</td>\n",
       "      <td>6</td>\n",
       "      <td>AS6</td>\n",
       "      <td>X</td>\n",
       "      <td>13.2</td>\n",
       "      <td>9.5</td>\n",
       "      <td>11.5</td>\n",
       "      <td>25</td>\n",
       "      <td>264</td>\n",
       "    </tr>\n",
       "    <tr>\n",
       "      <th>1064</th>\n",
       "      <td>2014</td>\n",
       "      <td>VOLVO</td>\n",
       "      <td>XC70 AWD</td>\n",
       "      <td>SUV - SMALL</td>\n",
       "      <td>3.0</td>\n",
       "      <td>6</td>\n",
       "      <td>AS6</td>\n",
       "      <td>X</td>\n",
       "      <td>13.4</td>\n",
       "      <td>9.8</td>\n",
       "      <td>11.8</td>\n",
       "      <td>24</td>\n",
       "      <td>271</td>\n",
       "    </tr>\n",
       "    <tr>\n",
       "      <th>1065</th>\n",
       "      <td>2014</td>\n",
       "      <td>VOLVO</td>\n",
       "      <td>XC70 AWD</td>\n",
       "      <td>SUV - SMALL</td>\n",
       "      <td>3.2</td>\n",
       "      <td>6</td>\n",
       "      <td>AS6</td>\n",
       "      <td>X</td>\n",
       "      <td>12.9</td>\n",
       "      <td>9.3</td>\n",
       "      <td>11.3</td>\n",
       "      <td>25</td>\n",
       "      <td>260</td>\n",
       "    </tr>\n",
       "    <tr>\n",
       "      <th>1066</th>\n",
       "      <td>2014</td>\n",
       "      <td>VOLVO</td>\n",
       "      <td>XC90 AWD</td>\n",
       "      <td>SUV - STANDARD</td>\n",
       "      <td>3.2</td>\n",
       "      <td>6</td>\n",
       "      <td>AS6</td>\n",
       "      <td>X</td>\n",
       "      <td>14.9</td>\n",
       "      <td>10.2</td>\n",
       "      <td>12.8</td>\n",
       "      <td>22</td>\n",
       "      <td>294</td>\n",
       "    </tr>\n",
       "  </tbody>\n",
       "</table>\n",
       "<p>1067 rows × 13 columns</p>\n",
       "</div>"
      ],
      "text/plain": [
       "      MODELYEAR   MAKE       MODEL    VEHICLECLASS  ENGINESIZE  CYLINDERS  \\\n",
       "0          2014  ACURA         ILX         COMPACT         2.0          4   \n",
       "1          2014  ACURA         ILX         COMPACT         2.4          4   \n",
       "2          2014  ACURA  ILX HYBRID         COMPACT         1.5          4   \n",
       "3          2014  ACURA     MDX 4WD     SUV - SMALL         3.5          6   \n",
       "4          2014  ACURA     RDX AWD     SUV - SMALL         3.5          6   \n",
       "...         ...    ...         ...             ...         ...        ...   \n",
       "1062       2014  VOLVO    XC60 AWD     SUV - SMALL         3.0          6   \n",
       "1063       2014  VOLVO    XC60 AWD     SUV - SMALL         3.2          6   \n",
       "1064       2014  VOLVO    XC70 AWD     SUV - SMALL         3.0          6   \n",
       "1065       2014  VOLVO    XC70 AWD     SUV - SMALL         3.2          6   \n",
       "1066       2014  VOLVO    XC90 AWD  SUV - STANDARD         3.2          6   \n",
       "\n",
       "     TRANSMISSION FUELTYPE  FUELCONSUMPTION_CITY  FUELCONSUMPTION_HWY  \\\n",
       "0             AS5        Z                   9.9                  6.7   \n",
       "1              M6        Z                  11.2                  7.7   \n",
       "2             AV7        Z                   6.0                  5.8   \n",
       "3             AS6        Z                  12.7                  9.1   \n",
       "4             AS6        Z                  12.1                  8.7   \n",
       "...           ...      ...                   ...                  ...   \n",
       "1062          AS6        X                  13.4                  9.8   \n",
       "1063          AS6        X                  13.2                  9.5   \n",
       "1064          AS6        X                  13.4                  9.8   \n",
       "1065          AS6        X                  12.9                  9.3   \n",
       "1066          AS6        X                  14.9                 10.2   \n",
       "\n",
       "      FUELCONSUMPTION_COMB  FUELCONSUMPTION_COMB_MPG  CO2EMISSIONS  \n",
       "0                      8.5                        33           196  \n",
       "1                      9.6                        29           221  \n",
       "2                      5.9                        48           136  \n",
       "3                     11.1                        25           255  \n",
       "4                     10.6                        27           244  \n",
       "...                    ...                       ...           ...  \n",
       "1062                  11.8                        24           271  \n",
       "1063                  11.5                        25           264  \n",
       "1064                  11.8                        24           271  \n",
       "1065                  11.3                        25           260  \n",
       "1066                  12.8                        22           294  \n",
       "\n",
       "[1067 rows x 13 columns]"
      ]
     },
     "execution_count": 2,
     "metadata": {},
     "output_type": "execute_result"
    }
   ],
   "source": [
    "data_path = '/Users/danielchen/Desktop/Coding/Python/Coursera/Machine Learning Python/Data/FuelConsumptionCo2.csv'\n",
    "data = pd.read_csv(data_path)\n",
    "data"
   ]
  },
  {
   "cell_type": "markdown",
   "id": "0e0182cd",
   "metadata": {},
   "source": [
    "## 3. Identify goals\n",
    "The goal of this exercise is to fit a linear model that predicts carbon dioxide emissions using feature of the dataset."
   ]
  },
  {
   "cell_type": "markdown",
   "id": "b43bb7cb",
   "metadata": {},
   "source": [
    "### 3a. Carbon Dioxide as a function of engine size\n",
    "\n",
    "First we'll need to split our data into training and testing splits. "
   ]
  },
  {
   "cell_type": "code",
   "execution_count": 3,
   "id": "e7f1dd65",
   "metadata": {},
   "outputs": [],
   "source": [
    "X_train, X_test, y_train, y_test = train_test_split(\n",
    "    data.ENGINESIZE, \n",
    "    data.CO2EMISSIONS, \n",
    "    test_size=0.2, \n",
    "    random_state=23\n",
    ")"
   ]
  },
  {
   "cell_type": "markdown",
   "id": "233c9b0a",
   "metadata": {},
   "source": [
    "We'll then need to create an instance of the `linear_model` class."
   ]
  },
  {
   "cell_type": "code",
   "execution_count": 4,
   "id": "fa971735",
   "metadata": {},
   "outputs": [],
   "source": [
    "linreg = linear_model.LinearRegression()"
   ]
  },
  {
   "cell_type": "markdown",
   "id": "706d6981",
   "metadata": {},
   "source": [
    "Note that in the below, we'll need to reshape our data first. The resulting X_train object is a series. "
   ]
  },
  {
   "cell_type": "code",
   "execution_count": 5,
   "id": "471906dd",
   "metadata": {},
   "outputs": [
    {
     "data": {
      "text/plain": [
       "pandas.core.series.Series"
      ]
     },
     "execution_count": 5,
     "metadata": {},
     "output_type": "execute_result"
    }
   ],
   "source": [
    "type(X_train)"
   ]
  },
  {
   "cell_type": "markdown",
   "id": "7f4092b6",
   "metadata": {},
   "source": [
    "We'll need to extract the actual values first and then reshape the data so it's compatible with our sklearn's linear regression model. The below returns a numpy array which we can then use the `reshape` method on."
   ]
  },
  {
   "cell_type": "code",
   "execution_count": 6,
   "id": "2fc85994",
   "metadata": {},
   "outputs": [
    {
     "data": {
      "text/plain": [
       "numpy.ndarray"
      ]
     },
     "execution_count": 6,
     "metadata": {},
     "output_type": "execute_result"
    }
   ],
   "source": [
    "type(X_train.values)"
   ]
  },
  {
   "cell_type": "code",
   "execution_count": 7,
   "id": "2603a265",
   "metadata": {},
   "outputs": [
    {
     "data": {
      "text/plain": [
       "LinearRegression()"
      ]
     },
     "execution_count": 7,
     "metadata": {},
     "output_type": "execute_result"
    }
   ],
   "source": [
    "linreg.fit(X_train.values.reshape(-1, 1), y_train.values.reshape(-1, 1))"
   ]
  },
  {
   "cell_type": "markdown",
   "id": "b90213a8",
   "metadata": {},
   "source": [
    "Let's return the coefficients of the model."
   ]
  },
  {
   "cell_type": "code",
   "execution_count": 8,
   "id": "be61e6ce",
   "metadata": {},
   "outputs": [
    {
     "data": {
      "text/plain": [
       "'The coefficient of the model is 40.39907773043087 and the intercept is 121.20457424141983.'"
      ]
     },
     "execution_count": 8,
     "metadata": {},
     "output_type": "execute_result"
    }
   ],
   "source": [
    "f'The coefficient of the model is {linreg.coef_[0][0]} and the intercept is {linreg.intercept_[0]}.'"
   ]
  },
  {
   "cell_type": "markdown",
   "id": "c75d613b",
   "metadata": {},
   "source": [
    "#### Make predictions\n",
    "\n",
    "Now that we have a mathematical relationship to describe the model, we can make predictions using our test set."
   ]
  },
  {
   "cell_type": "code",
   "execution_count": 9,
   "id": "3f619350",
   "metadata": {},
   "outputs": [],
   "source": [
    "y_predictions = linreg.predict(X_test.values.reshape(-1, 1))"
   ]
  },
  {
   "cell_type": "markdown",
   "id": "88958a82",
   "metadata": {},
   "source": [
    "#### Evaluate the model\n",
    "\n",
    "Now that we have the predicted values, we can test how far off they're from the actual values that exist in our data. We'll take the Mean Absolute Error here or the average difference between each predicted data point and its corresponding actual value."
   ]
  },
  {
   "cell_type": "code",
   "execution_count": 10,
   "id": "b707cf90",
   "metadata": {},
   "outputs": [
    {
     "data": {
      "text/plain": [
       "23.592519183520775"
      ]
     },
     "execution_count": 10,
     "metadata": {},
     "output_type": "execute_result"
    }
   ],
   "source": [
    "np.mean(np.absolute(y_predictions - y_test.values.reshape(-1, 1)))"
   ]
  },
  {
   "cell_type": "markdown",
   "id": "60ac15c2",
   "metadata": {},
   "source": [
    "### 3b. Carbon Dioxide as a function of fuel consumption\n",
    "\n",
    "It's possible that engine size may not be the best predictor of carbon dioxide emissions. We can check to see if there's a better predictor by using another feature and comparing how close the new model is to predicting the right points.\n",
    "\n",
    "Since we already CO2 emissions saved as an object in `y_train` and `y_test`, we'll need new arrays for `X_train` and `X_test`. The new `X_train` will be used with `y_train` and the new `X_test` with the existing `y_test`. "
   ]
  },
  {
   "cell_type": "code",
   "execution_count": 11,
   "id": "d5d915f5",
   "metadata": {},
   "outputs": [],
   "source": [
    "X_train = np.asanyarray(data.loc[X_train.index.values, 'FUELCONSUMPTION_COMB']).reshape(-1, 1)"
   ]
  },
  {
   "cell_type": "code",
   "execution_count": 12,
   "id": "872899a7",
   "metadata": {},
   "outputs": [],
   "source": [
    "X_test = np.asanyarray(data.loc[X_test.index.values, 'FUELCONSUMPTION_COMB']).reshape(-1, 1)"
   ]
  },
  {
   "cell_type": "markdown",
   "id": "7a7ea3ae",
   "metadata": {},
   "source": [
    "The important thing that we've done above is that we need to ensure that the same observations in `X_train` corresponding to the `ENGINESIZE` are used for the `FUELCONSUMPTION_COMB` values. This will allow us to train on the same `Y_train` outcomes. This also ensures our 80/20 train test split. "
   ]
  },
  {
   "cell_type": "code",
   "execution_count": 13,
   "id": "c8c26d5c",
   "metadata": {},
   "outputs": [
    {
     "data": {
      "text/plain": [
       "LinearRegression()"
      ]
     },
     "execution_count": 13,
     "metadata": {},
     "output_type": "execute_result"
    }
   ],
   "source": [
    "linreg.fit(X_train, y_train)"
   ]
  },
  {
   "cell_type": "markdown",
   "id": "fc996a98",
   "metadata": {},
   "source": [
    "Now we can predict again and evaluate. "
   ]
  },
  {
   "cell_type": "code",
   "execution_count": 14,
   "id": "c403c23b",
   "metadata": {},
   "outputs": [],
   "source": [
    "predicted_y_test = linreg.predict(X_test)"
   ]
  },
  {
   "cell_type": "code",
   "execution_count": 15,
   "id": "0b561647",
   "metadata": {},
   "outputs": [
    {
     "data": {
      "text/plain": [
       "'The mean absolute error of the new model is 19.5575279644988'"
      ]
     },
     "execution_count": 15,
     "metadata": {},
     "output_type": "execute_result"
    }
   ],
   "source": [
    "f'The mean absolute error of the new model is {np.mean(np.absolute(predicted_y_test - y_test))}'"
   ]
  },
  {
   "cell_type": "markdown",
   "id": "32aa5e35",
   "metadata": {},
   "source": [
    "We can also evaluate our model with Rsquared. Generally speaking Rsquared is a measure of how well our model fits our data."
   ]
  },
  {
   "cell_type": "code",
   "execution_count": 16,
   "id": "12b74d99",
   "metadata": {},
   "outputs": [
    {
     "data": {
      "text/plain": [
       "'The R-squared score of our model of carbon dioxide as a function of fuelconsumption is 0.7845783391764188'"
      ]
     },
     "execution_count": 16,
     "metadata": {},
     "output_type": "execute_result"
    }
   ],
   "source": [
    "(f'The R-squared score of our model of carbon dioxide as a function of fuel'\n",
    "f'consumption is {r2_score(y_true=y_test, y_pred=predicted_y_test)}')"
   ]
  },
  {
   "cell_type": "code",
   "execution_count": 17,
   "id": "00313db4",
   "metadata": {},
   "outputs": [
    {
     "data": {
      "text/plain": [
       "'The R-squared score of our model of carbon dioxide as a function of engine size is 0.7263801311946887'"
      ]
     },
     "execution_count": 17,
     "metadata": {},
     "output_type": "execute_result"
    }
   ],
   "source": [
    "(f'The R-squared score of our model of carbon dioxide as a function of engine size is'\n",
    "f' {r2_score(y_true=y_test, y_pred=y_predictions)}')"
   ]
  },
  {
   "cell_type": "markdown",
   "id": "3397309a",
   "metadata": {},
   "source": [
    "We can see that the mean squared error of the second model is lower and the R-squared value is also larger. "
   ]
  },
  {
   "cell_type": "markdown",
   "id": "f653eb44",
   "metadata": {},
   "source": [
    "## 4. K-fold Cross Validation"
   ]
  },
  {
   "cell_type": "code",
   "execution_count": 18,
   "id": "f9b46ff4",
   "metadata": {},
   "outputs": [],
   "source": [
    "from sklearn.model_selection import cross_val_score\n",
    "lr = linear_model.LinearRegression()"
   ]
  },
  {
   "cell_type": "code",
   "execution_count": 19,
   "id": "8eef9cd2",
   "metadata": {},
   "outputs": [
    {
     "data": {
      "text/plain": [
       "array([0.85929272, 0.75859349, 0.59844487, 0.6934474 , 0.71552105,\n",
       "       0.81053574, 0.82156464, 0.87783855, 0.83546748, 0.90312981])"
      ]
     },
     "execution_count": 19,
     "metadata": {},
     "output_type": "execute_result"
    }
   ],
   "source": [
    "cross_val_score(\n",
    "    estimator=lr, \n",
    "    X=data.FUELCONSUMPTION_COMB.values.reshape(-1, 1),\n",
    "    y=data.CO2EMISSIONS.values.reshape(-1, 1), \n",
    "    cv=10,\n",
    "    scoring='r2'\n",
    ")"
   ]
  },
  {
   "cell_type": "code",
   "execution_count": 20,
   "id": "7454f4cf",
   "metadata": {},
   "outputs": [
    {
     "data": {
      "text/plain": [
       "array([0.76272315, 0.71586712, 0.7257285 , 0.81913386, 0.74170318,\n",
       "       0.69006264, 0.66620099, 0.77980502, 0.83251248, 0.69577451])"
      ]
     },
     "execution_count": 20,
     "metadata": {},
     "output_type": "execute_result"
    }
   ],
   "source": [
    "cross_val_score(\n",
    "    estimator=lr, \n",
    "    X=data.ENGINESIZE.values.reshape(-1, 1), \n",
    "    y=data.CO2EMISSIONS.values.reshape(-1, 1), \n",
    "    cv=10,\n",
    "    scoring='r2'\n",
    ")"
   ]
  },
  {
   "cell_type": "markdown",
   "id": "f88f4a0d",
   "metadata": {},
   "source": [
    "By default, the scoring metric for linear regression is Rsquared. According to this metric, we can see that fuel consumption is a better fit for predicting carbon dioxide emissions than the model containing engine size as a predictor.\n",
    "\n",
    "This makes sense intuitively given the fact that the more fuel you use, the more carbon dioxide will be produced. \n",
    "\n",
    "Even so, we should be weary of high Rsquared values. If Rsquared is too high, we should be worried that our model is overfitted. It's possible that our model is too well trained on our data set. As a result, it may not be the best when using it on new data. \n",
    "\n",
    "K-fold cross validation is an attempt to use different splits or folds of the data since our evaluation result may be dependent on the split of the data we decide to use for training and testing. The results are variable depending on the split."
   ]
  },
  {
   "cell_type": "markdown",
   "id": "3c894337",
   "metadata": {},
   "source": [
    "### 4a. `cross_validate`\n",
    "\n",
    "An alternative to `cross_val_score` is `cross_validate`. The latter still allows us to specify the number of folds or splits of the data that we'd like to test on. However, it differs in the sense that it'll allow us to specify multiple scores and the output is not an array of scoring values, but rather a dictionary of scoring values.\n"
   ]
  },
  {
   "cell_type": "code",
   "execution_count": 21,
   "id": "2ac97e43",
   "metadata": {},
   "outputs": [],
   "source": [
    "from sklearn.model_selection import cross_validate"
   ]
  },
  {
   "cell_type": "code",
   "execution_count": 22,
   "id": "752da1ba",
   "metadata": {},
   "outputs": [],
   "source": [
    "cross_validation_scores = cross_validate(\n",
    "    estimator = lr,\n",
    "    X=data.FUELCONSUMPTION_COMB.values.reshape(-1, 1),\n",
    "    y=data.CO2EMISSIONS.values.reshape(-1, 1),\n",
    "    cv=10,\n",
    "    return_train_score=True\n",
    ")"
   ]
  },
  {
   "cell_type": "code",
   "execution_count": 23,
   "id": "f757c039",
   "metadata": {},
   "outputs": [
    {
     "data": {
      "text/plain": [
       "dict_keys(['fit_time', 'score_time', 'test_score', 'train_score'])"
      ]
     },
     "execution_count": 23,
     "metadata": {},
     "output_type": "execute_result"
    }
   ],
   "source": [
    "cross_validation_scores.keys()"
   ]
  },
  {
   "cell_type": "code",
   "execution_count": 24,
   "id": "67ea36f4",
   "metadata": {},
   "outputs": [
    {
     "data": {
      "text/plain": [
       "array([0.85929272, 0.75859349, 0.59844487, 0.6934474 , 0.71552105,\n",
       "       0.81053574, 0.82156464, 0.87783855, 0.83546748, 0.90312981])"
      ]
     },
     "execution_count": 24,
     "metadata": {},
     "output_type": "execute_result"
    }
   ],
   "source": [
    "cross_validation_scores['test_score']"
   ]
  },
  {
   "cell_type": "code",
   "execution_count": null,
   "id": "d37218aa",
   "metadata": {},
   "outputs": [],
   "source": []
  }
 ],
 "metadata": {
  "kernelspec": {
   "display_name": "Python 3",
   "language": "python",
   "name": "python3"
  },
  "language_info": {
   "codemirror_mode": {
    "name": "ipython",
    "version": 3
   },
   "file_extension": ".py",
   "mimetype": "text/x-python",
   "name": "python",
   "nbconvert_exporter": "python",
   "pygments_lexer": "ipython3",
   "version": "3.7.6"
  }
 },
 "nbformat": 4,
 "nbformat_minor": 5
}
